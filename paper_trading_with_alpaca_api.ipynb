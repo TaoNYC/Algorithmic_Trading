{
 "cells": [
  {
   "cell_type": "code",
   "execution_count": 1,
   "id": "a77e4ad3-5854-4701-82bf-6baf6ae1c5b3",
   "metadata": {},
   "outputs": [],
   "source": [
    "# Import the required libraries and dependencies\n",
    "import os\n",
    "import requests\n",
    "import json\n",
    "import pandas as pd\n",
    "from dotenv import load_dotenv\n",
    "import alpaca_trade_api as tradeapi\n",
    "from MCForecastTools import MCSimulation\n",
    "\n",
    "%matplotlib inline"
   ]
  },
  {
   "cell_type": "code",
   "execution_count": 2,
   "id": "676cef9b-1faa-4ab6-8b8a-d4ae9d97f0cc",
   "metadata": {},
   "outputs": [
    {
     "data": {
      "text/plain": [
       "'https://paper-api.alpaca.markets'"
      ]
     },
     "metadata": {},
     "output_type": "display_data"
    },
    {
     "data": {
      "text/plain": [
       "'https://paper-api.alpaca.markets/v2/account'"
      ]
     },
     "metadata": {},
     "output_type": "display_data"
    },
    {
     "data": {
      "text/plain": [
       "'https://paper-api.alpaca.markets/v2/orders'"
      ]
     },
     "metadata": {},
     "output_type": "display_data"
    }
   ],
   "source": [
    "# this is the endpoint url provided by alpaca website w/o any specific content attached\n",
    "base_url = 'https://paper-api.alpaca.markets' \n",
    "account_url = '{}/v2/account'.format(base_url)\n",
    "order_url = '{}/v2/orders'.format(base_url)\n",
    "\n",
    "\n",
    "display(base_url)\n",
    "display(account_url)\n",
    "display(order_url)"
   ]
  },
  {
   "cell_type": "code",
   "execution_count": 3,
   "id": "877b1a52-cb4a-4f82-8003-b12c31585917",
   "metadata": {},
   "outputs": [
    {
     "data": {
      "text/plain": [
       "'agQCs5eDpzsFfkVTi7N5qek6MHI9Qt3pe5Jf0xbt'"
      ]
     },
     "metadata": {},
     "output_type": "display_data"
    }
   ],
   "source": [
    "load_dotenv('api.env')\n",
    "alpaca_api_key = os.getenv('ALPACA_API_KEY')\n",
    "alpaca_secret_key = os.getenv('ALPACA_SECRET_KEY')\n",
    "display(alpaca_secret_key)\n",
    "alpaca_headers = {'APCA-API-KEY-ID':alpaca_api_key,'APCA-API-SECRET-KEY':alpaca_secret_key}\n"
   ]
  },
  {
   "cell_type": "code",
   "execution_count": 4,
   "id": "859d55d7-6e6f-4630-94e0-b0d99d5d9ed1",
   "metadata": {},
   "outputs": [],
   "source": [
    "# use headers pass on api key and api secret key\n",
    "def get_account():\n",
    "    response = requests.get(account_url,headers=alpaca_headers)\n",
    "    return json.loads(response.content)"
   ]
  },
  {
   "cell_type": "code",
   "execution_count": 5,
   "id": "734d8b53-7c11-4e6b-a118-cefff47e6b64",
   "metadata": {},
   "outputs": [
    {
     "data": {
      "text/plain": [
       "{'id': '98b5c6a4-3a66-45e2-bbd8-b8eb7e1d7eb3',\n",
       " 'account_number': 'PA3PUF05MHPL',\n",
       " 'status': 'ACTIVE',\n",
       " 'crypto_status': 'ACTIVE',\n",
       " 'currency': 'USD',\n",
       " 'buying_power': '196768.8',\n",
       " 'regt_buying_power': '196768.8',\n",
       " 'daytrading_buying_power': '0',\n",
       " 'non_marginable_buying_power': '96747.9',\n",
       " 'cash': '96747.9',\n",
       " 'accrued_fees': '0',\n",
       " 'pending_transfer_in': '0',\n",
       " 'portfolio_value': '100020.9',\n",
       " 'pattern_day_trader': False,\n",
       " 'trading_blocked': False,\n",
       " 'transfers_blocked': False,\n",
       " 'account_blocked': False,\n",
       " 'created_at': '2022-04-09T15:46:06.761919Z',\n",
       " 'trade_suspended_by_user': False,\n",
       " 'multiplier': '2',\n",
       " 'shorting_enabled': True,\n",
       " 'equity': '100020.9',\n",
       " 'last_equity': '100000',\n",
       " 'long_market_value': '3273',\n",
       " 'short_market_value': '0',\n",
       " 'initial_margin': '1636.5',\n",
       " 'maintenance_margin': '981.9',\n",
       " 'last_maintenance_margin': '0',\n",
       " 'sma': '100000',\n",
       " 'daytrade_count': 0}"
      ]
     },
     "execution_count": 5,
     "metadata": {},
     "output_type": "execute_result"
    }
   ],
   "source": [
    "get_account()"
   ]
  },
  {
   "cell_type": "code",
   "execution_count": 6,
   "id": "c03d9911-8f87-43ec-a82b-9b688eb77271",
   "metadata": {},
   "outputs": [],
   "source": [
    "def create_order(symbol,qty,side,type,time_in_force):\n",
    "    data = {\n",
    "        'symbol': symbol,\n",
    "        'qty': qty,\n",
    "        'side': side,\n",
    "        'type': type,\n",
    "        'time_in_force': time_in_force\n",
    "        \n",
    "         \n",
    "    }\n",
    "    response = requests.post(order_url,json=data,headers=alpaca_headers)\n",
    "    return json.loads(response.content)"
   ]
  },
  {
   "cell_type": "code",
   "execution_count": 7,
   "id": "4765e0b5-eed2-4f8d-b1b9-d2b2f2a48a5f",
   "metadata": {},
   "outputs": [
    {
     "name": "stdout",
     "output_type": "stream",
     "text": [
      "{'id': '9a8896f3-6065-4b76-8d61-969dbb34addc', 'client_order_id': 'f598c60b-638b-4281-ae06-845221d41b4d', 'created_at': '2022-04-28T17:28:48.190557892Z', 'updated_at': '2022-04-28T17:28:48.190557892Z', 'submitted_at': '2022-04-28T17:28:48.189247333Z', 'filled_at': None, 'expired_at': None, 'canceled_at': None, 'failed_at': None, 'replaced_at': None, 'replaced_by': None, 'replaces': None, 'asset_id': 'b0b6dd9d-8b9b-48a9-ba46-b9d54906e415', 'symbol': 'AAPL', 'asset_class': 'us_equity', 'notional': None, 'qty': '10', 'filled_qty': '0', 'filled_avg_price': None, 'order_class': '', 'order_type': 'market', 'type': 'market', 'side': 'buy', 'time_in_force': 'gtc', 'limit_price': None, 'stop_price': None, 'status': 'accepted', 'extended_hours': False, 'legs': None, 'trail_percent': None, 'trail_price': None, 'hwm': None, 'source': None}\n"
     ]
    }
   ],
   "source": [
    "response_order = create_order('AAPL',10,'buy','market','gtc')\n",
    "print(response_order)"
   ]
  },
  {
   "cell_type": "code",
   "execution_count": 8,
   "id": "a6878131-4945-417d-8795-f263b5b7e2ea",
   "metadata": {},
   "outputs": [],
   "source": [
    "def get_orders():\n",
    "    response = requests.get(order_url,headers=alpaca_headers)\n",
    "    return json.loads(response.content)"
   ]
  },
  {
   "cell_type": "code",
   "execution_count": 9,
   "id": "994d41a4-dea1-41b8-962a-02147e01097a",
   "metadata": {},
   "outputs": [
    {
     "name": "stdout",
     "output_type": "stream",
     "text": [
      "[{'id': '9a8896f3-6065-4b76-8d61-969dbb34addc', 'client_order_id': 'f598c60b-638b-4281-ae06-845221d41b4d', 'created_at': '2022-04-28T17:28:48.190558Z', 'updated_at': '2022-04-28T17:28:48.224721Z', 'submitted_at': '2022-04-28T17:28:48.189247Z', 'filled_at': None, 'expired_at': None, 'canceled_at': None, 'failed_at': None, 'replaced_at': None, 'replaced_by': None, 'replaces': None, 'asset_id': 'b0b6dd9d-8b9b-48a9-ba46-b9d54906e415', 'symbol': 'AAPL', 'asset_class': 'us_equity', 'notional': None, 'qty': '10', 'filled_qty': '0', 'filled_avg_price': None, 'order_class': '', 'order_type': 'market', 'type': 'market', 'side': 'buy', 'time_in_force': 'gtc', 'limit_price': None, 'stop_price': None, 'status': 'new', 'extended_hours': False, 'legs': None, 'trail_percent': None, 'trail_price': None, 'hwm': None, 'source': 'access_key'}]\n"
     ]
    }
   ],
   "source": [
    "orders = get_orders()\n",
    "print(orders)"
   ]
  },
  {
   "cell_type": "code",
   "execution_count": null,
   "id": "8a136017-2bd7-4bd2-b02a-20a629dd8023",
   "metadata": {},
   "outputs": [],
   "source": []
  }
 ],
 "metadata": {
  "kernelspec": {
   "display_name": "dev",
   "language": "python",
   "name": "dev"
  },
  "language_info": {
   "codemirror_mode": {
    "name": "ipython",
    "version": 3
   },
   "file_extension": ".py",
   "mimetype": "text/x-python",
   "name": "python",
   "nbconvert_exporter": "python",
   "pygments_lexer": "ipython3",
   "version": "3.7.11"
  }
 },
 "nbformat": 4,
 "nbformat_minor": 5
}
