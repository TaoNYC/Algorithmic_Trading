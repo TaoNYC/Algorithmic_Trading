{
 "cells": [
  {
   "cell_type": "code",
   "execution_count": 6,
   "id": "a77e4ad3-5854-4701-82bf-6baf6ae1c5b3",
   "metadata": {},
   "outputs": [],
   "source": [
    "# Import the required libraries and dependencies\n",
    "import os\n",
    "import requests\n",
    "import json\n",
    "import pandas as pd\n",
    "from dotenv import load_dotenv\n",
    "import alpaca_trade_api as tradeapi\n",
    "from MCForecastTools import MCSimulation\n",
    "\n",
    "%matplotlib inline"
   ]
  },
  {
   "cell_type": "code",
   "execution_count": 11,
   "id": "676cef9b-1faa-4ab6-8b8a-d4ae9d97f0cc",
   "metadata": {},
   "outputs": [
    {
     "data": {
      "text/plain": [
       "'https://paper-api.alpaca.markets'"
      ]
     },
     "metadata": {},
     "output_type": "display_data"
    },
    {
     "data": {
      "text/plain": [
       "'https://paper-api.alpaca.markets/v2/account'"
      ]
     },
     "execution_count": 11,
     "metadata": {},
     "output_type": "execute_result"
    }
   ],
   "source": [
    "# this is the endpoint url provided by alpaca website w/o any specific content attached\n",
    "base_url = 'https://paper-api.alpaca.markets' \n",
    "account_url = '{}/v2/account'.format(base_url)\n",
    "display(base_url)\n",
    "account_url"
   ]
  },
  {
   "cell_type": "code",
   "execution_count": 12,
   "id": "877b1a52-cb4a-4f82-8003-b12c31585917",
   "metadata": {},
   "outputs": [
    {
     "data": {
      "text/plain": [
       "'agQCs5eDpzsFfkVTi7N5qek6MHI9Qt3pe5Jf0xbt'"
      ]
     },
     "execution_count": 12,
     "metadata": {},
     "output_type": "execute_result"
    }
   ],
   "source": [
    "load_dotenv('api.env')\n",
    "alpaca_api_key = os.getenv('ALPACA_API_KEY')\n",
    "alpaca_secret_key = os.getenv('ALPACA_SECRET_KEY')\n",
    "alpaca_secret_key"
   ]
  },
  {
   "cell_type": "code",
   "execution_count": 14,
   "id": "859d55d7-6e6f-4630-94e0-b0d99d5d9ed1",
   "metadata": {},
   "outputs": [
    {
     "name": "stdout",
     "output_type": "stream",
     "text": [
      "b'{\"id\":\"98b5c6a4-3a66-45e2-bbd8-b8eb7e1d7eb3\",\"account_number\":\"PA3PUF05MHPL\",\"status\":\"ACTIVE\",\"crypto_status\":\"ACTIVE\",\"currency\":\"USD\",\"buying_power\":\"200000\",\"regt_buying_power\":\"200000\",\"daytrading_buying_power\":\"0\",\"non_marginable_buying_power\":\"100000\",\"cash\":\"100000\",\"accrued_fees\":\"0\",\"pending_transfer_in\":\"0\",\"portfolio_value\":\"100000\",\"pattern_day_trader\":false,\"trading_blocked\":false,\"transfers_blocked\":false,\"account_blocked\":false,\"created_at\":\"2022-04-09T15:46:06.761919Z\",\"trade_suspended_by_user\":false,\"multiplier\":\"2\",\"shorting_enabled\":true,\"equity\":\"100000\",\"last_equity\":\"100000\",\"long_market_value\":\"0\",\"short_market_value\":\"0\",\"initial_margin\":\"0\",\"maintenance_margin\":\"0\",\"last_maintenance_margin\":\"0\",\"sma\":\"100000\",\"daytrade_count\":0}'\n"
     ]
    }
   ],
   "source": [
    "# use headers pass on api key and api secret key\n",
    "response = requests.get(account_url,headers={'APCA-API-KEY-ID':alpaca_api_key,'APCA-API-SECRET-KEY':alpaca_secret_key})\n",
    "print(response.content)"
   ]
  },
  {
   "cell_type": "code",
   "execution_count": null,
   "id": "734d8b53-7c11-4e6b-a118-cefff47e6b64",
   "metadata": {},
   "outputs": [],
   "source": []
  }
 ],
 "metadata": {
  "kernelspec": {
   "display_name": "dev",
   "language": "python",
   "name": "dev"
  },
  "language_info": {
   "codemirror_mode": {
    "name": "ipython",
    "version": 3
   },
   "file_extension": ".py",
   "mimetype": "text/x-python",
   "name": "python",
   "nbconvert_exporter": "python",
   "pygments_lexer": "ipython3",
   "version": "3.7.11"
  }
 },
 "nbformat": 4,
 "nbformat_minor": 5
}
